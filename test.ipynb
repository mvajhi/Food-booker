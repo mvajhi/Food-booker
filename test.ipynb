{
 "cells": [
  {
   "cell_type": "code",
   "execution_count": 22,
   "metadata": {},
   "outputs": [],
   "source": [
    "import bs4\n",
    "import requests\n",
    "request = requests.get(\"https://dining.ut.ac.ir\")"
   ]
  },
  {
   "cell_type": "code",
   "execution_count": 23,
   "metadata": {},
   "outputs": [],
   "source": [
    "from bs4 import BeautifulSoup\n",
    "soup = BeautifulSoup(request.text, \"html.parser\")"
   ]
  },
  {
   "cell_type": "code",
   "execution_count": 24,
   "metadata": {},
   "outputs": [],
   "source": [
    "AList = soup.find_all(\"a\")"
   ]
  },
  {
   "cell_type": "code",
   "execution_count": 25,
   "metadata": {},
   "outputs": [
    {
     "data": {
      "text/plain": [
       "'https://auth.ut.ac.ir:8443/cas/login?service=https://dining2.ut.ac.ir/Account/CasLogin&locale=fa&mode=iframe'"
      ]
     },
     "execution_count": 25,
     "metadata": {},
     "output_type": "execute_result"
    }
   ],
   "source": [
    "login_link_obj = AList[0]\n",
    "for i in AList:\n",
    "    if i.text == \"ورود به سامانه\":\n",
    "        login_link_obj = i\n",
    "\n",
    "login_link = login_link_obj[\"href\"]\n",
    "login_link"
   ]
  },
  {
   "cell_type": "code",
   "execution_count": 26,
   "metadata": {},
   "outputs": [
    {
     "name": "stderr",
     "output_type": "stream",
     "text": [
      "/usr/lib/python3/dist-packages/urllib3/connectionpool.py:1015: InsecureRequestWarning: Unverified HTTPS request is being made to host 'auth.ut.ac.ir'. Adding certificate verification is strongly advised. See: https://urllib3.readthedocs.io/en/latest/advanced-usage.html#ssl-warnings\n",
      "  warnings.warn(\n"
     ]
    },
    {
     "name": "stdout",
     "output_type": "stream",
     "text": [
      "سامانه احراز هویت مرکزی\n"
     ]
    },
    {
     "name": "stderr",
     "output_type": "stream",
     "text": [
      "/usr/lib/python3/dist-packages/urllib3/connectionpool.py:1015: InsecureRequestWarning: Unverified HTTPS request is being made to host 'auth.ut.ac.ir'. Adding certificate verification is strongly advised. See: https://urllib3.readthedocs.io/en/latest/advanced-usage.html#ssl-warnings\n",
      "  warnings.warn(\n"
     ]
    },
    {
     "name": "stdout",
     "output_type": "stream",
     "text": [
      "try1\n",
      "successful!!! now in صفحه اصلی - سامانه تغذیه\n",
      "ViewSearch - سامانه تغذیه\n"
     ]
    }
   ],
   "source": [
    "with requests.Session() as s:\n",
    "    request = s.get(login_link, verify=False)\n",
    "\n",
    "    soup = BeautifulSoup(request.text, \"html.parser\")\n",
    "    print(soup.find(\"title\").text)\n",
    "    execution = soup.find(\"input\", attrs={\"name\":\"execution\"})[\"value\"]\n",
    "    execution\n",
    "\n",
    "    username = input(\"enter username: \")\n",
    "    password = input(\"enter password: \")\n",
    "    user_pass = [username, password]\n",
    "    info = {\n",
    "        \"username\" : user_pass[0],\n",
    "        \"password\" : user_pass[1],\n",
    "        \"execution\": execution,\n",
    "        \"_eventId\" : \"submit\",\n",
    "        \"geolocation\":\"\",\n",
    "        \"submit\" : \"ÙØ±ÙØ¯\"\n",
    "    }\n",
    "\n",
    "    counter = 0\n",
    "    while True:\n",
    "        counter = counter + 1\n",
    "        request = s.post(login_link, data=info)\n",
    "        request.text\n",
    "        soup = BeautifulSoup(request.text, \"html.parser\")\n",
    "\n",
    "        print (\"try\" + str(counter))\n",
    "        if soup.find(\"title\").text == 'صفحه اصلی - سامانه تغذیه':\n",
    "            print (\"successful!!! now in \" + soup.find(\"title\").text)\n",
    "            break\n",
    "        elif counter == 5:\n",
    "            print (\"time out\")\n",
    "            break\n",
    "\n",
    "    request = s.get(\"https://dining2.ut.ac.ir/UserFriendGroup/ViewSearch\")\n",
    "    soup = BeautifulSoup(request.text, \"html.parser\")\n",
    "    if soup.find(\"title\").text == \"login\":\n",
    "        print(\"login :((((\")\n",
    "    else:\n",
    "        print (soup.find(\"title\").text )\n",
    "\n",
    "    stu_request = {\n",
    "        \"FirstName\" : \"\",\n",
    "        \"LastName\"  : \"\",\n",
    "        \"IdNumber\"  : \"810101556\"\n",
    "    }\n",
    "\n",
    "    request = s.post(\"https://dining2.ut.ac.ir/UserFriendGroup/SearchInfo\", data=stu_request)\n",
    "    soup = BeautifulSoup(request.text, \"html.parser\")"
   ]
  },
  {
   "cell_type": "code",
   "execution_count": 27,
   "metadata": {},
   "outputs": [
    {
     "name": "stdout",
     "output_type": "stream",
     "text": [
      "['امیرحسین', 'صباحی', '810101556']\n"
     ]
    }
   ],
   "source": [
    "stuinfo = soup.find_all(\"td\")\n",
    "counter = 0\n",
    "Sstuinfo = list()\n",
    "\n",
    "for i in stuinfo:\n",
    "    if counter < 3:\n",
    "        Sstuinfo.append(i.text.replace(\"\\t\", \"\").replace(\"\\n\", \"\").replace(\"\\r\",\"\"))\n",
    "    counter = counter + 1\n",
    "print(Sstuinfo)"
   ]
  },
  {
   "cell_type": "code",
   "execution_count": 31,
   "metadata": {},
   "outputs": [
    {
     "data": {
      "text/plain": [
       "'\\t\\t<h2 class=\"panel-title panelHeaderTXTGreen \">  نتایج جستجو (5 نفر اول)</h2>\\r\\n\\t\\t<hr />\\r\\n\\t\\t<div style=\"padding:10px;overflow-y:auto;height:250px\">\\r\\n\\t\\t\\t<table class=\"table table-striped\">\\r\\n\\r\\n\\t\\t\\t\\t<thead>\\r\\n\\t\\t\\t\\t\\t<tr>\\r\\n\\t\\t\\t\\t\\t\\t<th>نام</th>\\r\\n\\t\\t\\t\\t\\t\\t<th>نام خانوادگی</th>\\r\\n\\t\\t\\t\\t\\t\\t<th>شماره دانشجویی</th>\\r\\n\\r\\n\\t\\t\\t\\t\\t</tr>\\r\\n\\t\\t\\t\\t</thead>\\r\\n\\r\\n\\t\\t\\t\\t<tbody>\\r\\n\\t\\t\\t\\t\\t\\t<tr>\\r\\n\\r\\n\\t\\t\\t\\t\\t\\t\\t<td>\\r\\n\\t\\t\\t\\t\\t\\t\\t\\tامیرحسین\\r\\n\\t\\t\\t\\t\\t\\t\\t</td>\\r\\n\\t\\t\\t\\t\\t\\t\\t<td>\\r\\n\\t\\t\\t\\t\\t\\t\\t\\tصباحی\\r\\n\\t\\t\\t\\t\\t\\t\\t</td>\\r\\n\\t\\t\\t\\t\\t\\t\\t<td>\\r\\n\\t\\t\\t\\t\\t\\t\\t\\t810101556\\r\\n\\t\\t\\t\\t\\t\\t\\t</td>\\r\\n\\r\\n\\t\\t\\t\\t\\t\\t\\t<td>\\r\\n\\t\\t\\t\\t\\t\\t\\t\\t<label id=\"Linkdiv\">\\r\\n\\t\\t\\t\\t\\t\\t\\t\\t\\t<a class=\"GetInfoClass TXTSty\" id=\"GetInfo116269\" personid=\"116269\" href=\"\">ارسال درخواست</a>\\r\\n\\t\\t\\t\\t\\t\\t\\t\\t\\t\\r\\n\\t\\t\\t\\t\\t\\t\\t\\t\\t\\r\\n\\t\\t\\t\\t\\t\\t\\t\\t</label>\\r\\n\\t\\t\\t\\t\\t\\t\\t</td>\\r\\n\\t\\t\\t\\t\\t\\t</tr>\\r\\n\\t\\t\\t\\t</tbody>\\r\\n\\t\\t\\t</table>\\r\\n\\t\\t</div>\\r\\n\\r\\n<script>\\r\\n\\r\\n\\t//function SuccessFunction(result) {\\r\\n\\t//    if (result == 0) {\\r\\n\\t//        $(this).replaceWith(\"<span  style=\\'color:#ef5e4f\\'>درخواست ارسال شد</span>\");\\r\\n\\t//    }\\r\\n\\t//    else if (result == 1) {\\r\\n\\t//        $(this).replaceWith(\"<span  style=\\'color:red\\' >در گروه دیگر عضو است</span>\");\\r\\n\\t//    }\\r\\n\\t//    else if (result == 2) {\\r\\n\\t//        $(this).replaceWith(\"<span  style=\\'color:#089570\\'>قبلاً درخواست فرستاده اید</span>\");\\r\\n\\t//    }\\r\\n\\t//    else if (result == 3) {\\r\\n\\t//        $(this).replaceWith(\"<span  style=\\'color:#089570\\'>تعداد اعضای گروه به حداکثر رسیده است</span>\");\\r\\n\\t//    }\\r\\n\\t//}\\r\\n\\r\\n\\t$(function () {\\r\\n\\t\\t$(\".GetInfoClass\").click(\\r\\n\\t\\t\\tfunction (event) {\\r\\n\\t\\t\\t\\tevent.preventDefault();\\r\\n\\t\\t\\t\\tvar personId = $(this).attr(\"personid\");\\r\\n\\t\\t\\t\\tconsole.log(personId)\\r\\n\\t\\t\\t\\tvar el = $(this);\\r\\n\\t\\t\\t\\t$.ajax({\\r\\n\\t\\t\\t\\t\\ttype: \"post\",\\r\\n\\t\\t\\t\\t\\turl: \"GetInfo\",\\r\\n\\r\\n\\t\\t\\t\\t\\tdata: {\\r\\n\\t\\t\\t\\t\\t\\tpersonId\\r\\n\\t\\t\\t\\t\\t},\\r\\n\\r\\n\\t\\t\\t\\t\\tdatatype: \"json\",\\r\\n\\r\\n\\t\\t\\t\\t\\terror: function (result) {\\r\\n\\t\\t\\t\\t\\t\\talert(\"خطا\");\\r\\n\\t\\t\\t\\t\\t},\\r\\n\\r\\n\\t\\t\\t\\t\\tsuccess: function (result) {\\r\\n\\t\\t\\t\\t\\t\\tif (result == 0) {\\r\\n\\t\\t\\t\\t\\t\\t\\tel.replaceWith(\"<span  style=\\'color:green\\'>درخواست ارسال شد</span>\");\\r\\n\\t\\t\\t\\t\\t\\t}\\r\\n\\t\\t\\t\\t\\t\\telse if (result == 1) {\\r\\n\\t\\t\\t\\t\\t\\t\\tel.replaceWith(\"<span  style=\\'color:red\\' >در گروه دیگر عضو است</span>\");\\r\\n\\t\\t\\t\\t\\t\\t}\\r\\n\\t\\t\\t\\t\\t\\telse if (result == 2) {\\r\\n\\t\\t\\t\\t\\t\\t\\tel.replaceWith(\"<span  style=\\'color:orange\\'>قبلاً درخواست فرستاده اید</span>\");\\r\\n\\t\\t\\t\\t\\t\\t}\\r\\n\\t\\t\\t\\t\\t\\telse if (result == 3) {\\r\\n\\t\\t\\t\\t\\t\\t\\tel.replaceWith(\"<span  style=\\'color:red\\'>تعداد اعضای گروه به حداکثر رسیده است</span>\");\\r\\n\\t\\t\\t\\t\\t\\t}\\r\\n\\t\\t\\t\\t\\t}\\r\\n\\r\\n\\t\\t\\t\\t})\\r\\n\\t\\t\\t});\\r\\n\\t})\\r\\n</script>'"
      ]
     },
     "execution_count": 31,
     "metadata": {},
     "output_type": "execute_result"
    }
   ],
   "source": [
    "request.text"
   ]
  },
  {
   "cell_type": "code",
   "execution_count": 44,
   "metadata": {},
   "outputs": [
    {
     "data": {
      "text/plain": [
       "['hi', 'test', 'bye']"
      ]
     },
     "execution_count": 44,
     "metadata": {},
     "output_type": "execute_result"
    }
   ],
   "source": [
    "test = [\"hi!!\", \"test!!!!!\", \"!b!ye!\"]\n",
    "for i in range(3):\n",
    "    test[i] = test[i].replace(\"!\", \"\")\n",
    "test"
   ]
  },
  {
   "cell_type": "code",
   "execution_count": 60,
   "metadata": {},
   "outputs": [
    {
     "name": "stdout",
     "output_type": "stream",
     "text": [
      "ello my n\n"
     ]
    }
   ],
   "source": [
    "my = \"hello my name is mahdi\"\n",
    "print(my[1:10])"
   ]
  },
  {
   "cell_type": "code",
   "execution_count": 15,
   "metadata": {},
   "outputs": [],
   "source": [
    "import csv\n",
    "database = []\n",
    "with open(\"id.csv\", 'r') as file:\n",
    "    reader = csv.DictReader(file)\n",
    "    for row in reader:\n",
    "        database.append(row)"
   ]
  },
  {
   "cell_type": "code",
   "execution_count": 17,
   "metadata": {},
   "outputs": [
    {
     "data": {
      "text/plain": [
       "{'code': '810101',\n",
       " 'id': '000',\n",
       " 'college': 'fani barg',\n",
       " 'field': 'CE',\n",
       " 'degree': 'karshenasi',\n",
       " 'entrance': '1401'}"
      ]
     },
     "execution_count": 17,
     "metadata": {},
     "output_type": "execute_result"
    }
   ],
   "source": [
    "i = int(0)\n",
    "while int(database[i][\"id\"]) == 999:\n",
    "    i = i + 1\n",
    "database[i]"
   ]
  },
  {
   "cell_type": "code",
   "execution_count": 155,
   "metadata": {},
   "outputs": [
    {
     "data": {
      "text/plain": [
       "'005'"
      ]
     },
     "execution_count": 155,
     "metadata": {},
     "output_type": "execute_result"
    }
   ],
   "source": [
    "    ids = []\n",
    "    with open(\"id.csv\", 'r') as file:\n",
    "        reader = csv.DictReader(file)\n",
    "        for row in reader:\n",
    "            ids.append(row)\n",
    "    i = int(0)\n",
    "    while int(ids[i][\"id\"]) == 999:\n",
    "        i = i + 1\n",
    "    # ids [i][\"code\"] = int(ids[i][\"class_id\"] + ids[i][\"id\"])\n",
    "    ids[i][\"id\"]"
   ]
  },
  {
   "cell_type": "code",
   "execution_count": 165,
   "metadata": {},
   "outputs": [],
   "source": [
    "    ids = []\n",
    "    with open(\"id.csv\", 'r') as file:\n",
    "        reader = csv.DictReader(file)\n",
    "        for row in reader:\n",
    "            ids.append(row)\n",
    "    row = int(0)\n",
    "    while int(ids[row][\"id\"]) == 999:\n",
    "        row = row + 1\n",
    "    ids[row][\"id\"] = \"{:03d}\".format(int(ids[row][\"id\"]) + 1)\n",
    "    field = ['class_id', 'id', 'college', 'field', 'degree', 'entrance']\n",
    "\n",
    "    with open(\"id.csv\", 'w') as file:\n",
    "        fieldnames = ['first_name', 'last_name']\n",
    "        writer = csv.DictWriter(file, fieldnames=field)\n",
    "\n",
    "        writer.writeheader()\n",
    "        for i in ids:\n",
    "            writer.writerow(i)"
   ]
  },
  {
   "cell_type": "code",
   "execution_count": null,
   "metadata": {},
   "outputs": [],
   "source": [
    "class_id,id,college,field,degree,entrance\n",
    "810101,000,fani barg,CE,karshenasi,1401"
   ]
  },
  {
   "cell_type": "code",
   "execution_count": 170,
   "metadata": {},
   "outputs": [],
   "source": [
    "    stu_info = {\n",
    "        \"stu_id\"    : \"810101558\",\n",
    "        \"first_name\": \"mahdi\",\n",
    "        \"last_name\" : \"vajhi\",\n",
    "        \"college\"   : \"fani barg\",\n",
    "        \"field\"     : \"comp\",\n",
    "        \"degree\"    : \"karshenas\",\n",
    "        \"entrance\"  : \"1401\" \n",
    "    }\n",
    "\n",
    "    field = [\"stu_id\", \"first_name\", \"last_name\", \"college\", \"field\", \"degree\", \"entrance\"]\n",
    "\n",
    "    with open(\"stu_info.csv\", \"a\") as file:\n",
    "        writer = csv.DictWriter(file, fieldnames=field)\n",
    "        writer.writerow(stu_info)\n"
   ]
  },
  {
   "cell_type": "code",
   "execution_count": null,
   "metadata": {},
   "outputs": [],
   "source": []
  }
 ],
 "metadata": {
  "kernelspec": {
   "display_name": "Python 3",
   "language": "python",
   "name": "python3"
  },
  "language_info": {
   "codemirror_mode": {
    "name": "ipython",
    "version": 3
   },
   "file_extension": ".py",
   "mimetype": "text/x-python",
   "name": "python",
   "nbconvert_exporter": "python",
   "pygments_lexer": "ipython3",
   "version": "3.10.6 (main, Nov 14 2022, 16:10:14) [GCC 11.3.0]"
  },
  "orig_nbformat": 4,
  "vscode": {
   "interpreter": {
    "hash": "916dbcbb3f70747c44a77c7bcd40155683ae19c65e1c03b4aa3499c5328201f1"
   }
  }
 },
 "nbformat": 4,
 "nbformat_minor": 2
}
